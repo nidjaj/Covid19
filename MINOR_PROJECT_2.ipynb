{
 "cells": [
  {
   "cell_type": "markdown",
   "metadata": {},
   "source": [
    "# MINOR PROJECT 2 : Pandemic Analyzer Calculator\n"
   ]
  },
  {
   "cell_type": "code",
   "execution_count": 12,
   "metadata": {},
   "outputs": [],
   "source": [
    "from  tkinter import *\n",
    "from tkinter.ttk import Combobox\n",
    "from tkinter import messagebox as mbox\n",
    "from csv import reader"
   ]
  },
  {
   "cell_type": "code",
   "execution_count": 13,
   "metadata": {},
   "outputs": [],
   "source": [
    "tkter = Tk()    \n",
    "tkter.geometry(\"600x600\")\n",
    "\n",
    "pic = PhotoImage(file=\"234.png\")\n",
    "pic=pic.zoom(2,2)\n",
    "Label(tkter, image=pic).pack(side=TOP)"
   ]
  },
  {
   "cell_type": "code",
   "execution_count": null,
   "metadata": {},
   "outputs": [],
   "source": []
  },
  {
   "cell_type": "code",
   "execution_count": 14,
   "metadata": {},
   "outputs": [],
   "source": [
    "with open('data_state.csv', 'r') as read_obj:\n",
    "    \n",
    "    data = reader(read_obj)\n",
    "    \n",
    "    list_of_rows = list(data)"
   ]
  },
  {
   "cell_type": "code",
   "execution_count": 15,
   "metadata": {},
   "outputs": [],
   "source": [
    "#Creating Labels \n",
    "lbl=Label(tkter, text=\"NAME OF THE STATE :\", bg='oldlace',fg='darkred', font=(\"arial\", 16)) #fg = font color\n",
    "lbl.place(x=30, y=30)\n",
    "\n",
    "Confirmed=Entry(bg='snow')\n",
    "Confirmed.place(x=280, y=90,width=150,height=30)\n",
    "\n",
    "lbl1=Label(tkter, text=\"CONFIRMED CASES:\",bg='snow', fg='chocolate', font=(\"arial\", 14))\n",
    "lbl1.place(x=30, y=90)\n",
    "\n",
    "Active=Entry(bg='snow')\n",
    "Active.place(x=280, y=130,width=150,height=30)\n",
    "lbl2=Label(tkter, text=\"ACTIVE CASES:\",bg='snow', fg='dodgerblue', font=(\"arial\", 14))\n",
    "lbl2.place(x=30, y=130)\n",
    "\n",
    "Recovered=Entry(bg=\"snow\")\n",
    "Recovered.place(x=280, y=170,width=150,height=30)\n",
    "lbl3=Label(tkter, text=\"RECOVERED CASES:\",bg='snow', fg='mediumseagreen', font=(\"arial\", 14))\n",
    "lbl3.place(x=30, y=170)\n",
    "\n",
    "TOTAL_POPULATION=Entry(bg=\"snow\")\n",
    "TOTAL_POPULATION.place(x=280, y=210,width=150,height=30)\n",
    "lbl4=Label(tkter, text=\"TOTAL POPULATION:\",bg='snow', fg='purple', font=(\"arial\", 14))\n",
    "lbl4.place(x=30, y=210)\n",
    "\n",
    "\n"
   ]
  },
  {
   "cell_type": "code",
   "execution_count": 16,
   "metadata": {},
   "outputs": [],
   "source": [
    "data1=[] #will contain names of the states\n",
    "data2=[] #data corressponding to name\n",
    "#Creating List using Loop\n",
    "for i in range(len(list_of_rows)):\n",
    "    data1.append(list_of_rows[i])\n",
    "    data2.append(data1[i][0])  "
   ]
  },
  {
   "cell_type": "code",
   "execution_count": 17,
   "metadata": {},
   "outputs": [],
   "source": [
    "#Creating Function for clearing the text boxes\n",
    "def enable_items():\n",
    "   \n",
    "    Confirmed.configure(state='normal')  # on \n",
    "    Active.configure(state='normal')\n",
    "    Recovered.configure(state='normal')\n",
    "    TOTAL_POPULATION.configure(state='normal')  \n",
    " \n",
    "    Confirmed.delete(0, 'end')\n",
    "    Active.delete(0, 'end')\n",
    "    Recovered.delete(0, 'end')\n",
    "    TOTAL_POPULATION.delete(0,'end')\n",
    "    \n",
    "    ifr.configure(state='normal')\n",
    "    ifr.delete(0, 'end')\n",
    "    \n",
    "    cmr.configure(state='normal')\n",
    "    cmr.delete(0, 'end')\n",
    "    \n",
    "    death.configure(state='normal')\n",
    "    death.delete(0, 'end')"
   ]
  },
  {
   "cell_type": "code",
   "execution_count": 18,
   "metadata": {},
   "outputs": [],
   "source": [
    "##Creating Function for covid data into text boxes and disabling it\n",
    "def on_Data_changed():\n",
    "    \n",
    "    enable_items()\n",
    "    for i in range(len(data1)):\n",
    "                \n",
    "            dat=data1[i][0]\n",
    "            if cb.get()==dat:\n",
    "               \n",
    "                Confirmed.insert(END, data1[i][1])\n",
    "                Active.insert(END, data1[i][2])\n",
    "                Recovered.insert(END, data1[i][3])\n",
    "                TOTAL_POPULATION.insert(END, data1[i][5])\n",
    "                \n",
    "              \n",
    "                Confirmed.configure(state='disabled')\n",
    "                Active.configure(state='disabled')\n",
    "                Recovered.configure(state='disabled')\n",
    "                TOTAL_POPULATION.configure(state='disabled')"
   ]
  },
  {
   "cell_type": "code",
   "execution_count": 19,
   "metadata": {},
   "outputs": [],
   "source": [
    "#Settingup Data for Combobox\n",
    "cb=Combobox(tkter,values=data2)    \n",
    "cb.place(x=280, y=30,width=150,height=30)\n",
    "\n",
    "clk = Button(tkter, text=' GO ',bg=\"oldlace\",fg=\"black\",font=('arial',16),command=on_Data_changed) #CREATE BUTTON APON CLICKING\n",
    "clk.place(x=440, y=30,height=30)\n",
    "\n"
   ]
  },
  {
   "cell_type": "code",
   "execution_count": 20,
   "metadata": {},
   "outputs": [],
   "source": [
    "#Creating function for calculation OF DEATHS\n",
    "def NO_OF_DEATHS():\n",
    "        num1=int(Confirmed.get())\n",
    "        num2=int(Active.get())\n",
    "        num3=int(Recovered.get())\n",
    "        \n",
    "        d=num1-(num2+num3)\n",
    "        death.insert(END, str(d))\n",
    "        death.configure(state='disabled')\n",
    "\n",
    "#Creating function for IFR calculation\n",
    "def ifr():\n",
    "        num1=int(death.get())\n",
    "        num2=int(Confirmed.get())\n",
    "        \n",
    "        ans=round((num1/num2)*100,2)\n",
    "        ifr.insert(END, str(ans)+'%')\n",
    "        ifr.configure(state='disabled')\n",
    "\n",
    "#Creating function for CMR calculation\n",
    "def cmr():\n",
    "        num3=int(death.get())\n",
    "        num4=int(TOTAL_POPULATION.get())\n",
    "        \n",
    "        ans1=round((num3/num4)*100000,4)\n",
    "        cmr.insert(END, str(ans1)+'%')\n",
    "        cmr.configure(state='disabled')\n",
    "\n"
   ]
  },
  {
   "cell_type": "code",
   "execution_count": 21,
   "metadata": {},
   "outputs": [],
   "source": [
    "#creating Buttons             \n",
    "\n",
    "death=Button(tkter, text='DECEASED',bg=\"salmon\",font=('arial',16),fg=\"white\",command=NO_OF_DEATHS)\n",
    "death.place(x=35, y=280)\n",
    "\n",
    "ifr= Button(tkter, text='IFR',bg=\"turquoise\",font=('arial',16),fg=\"white\",command=ifr)\n",
    "ifr.place(x=270, y=280)\n",
    "\n",
    "cmr=Button(tkter, text='CMR',bg=\"violet\",font=('arial',16),fg=\"white\",command=cmr)\n",
    "cmr.place(x=440, y=280)\n",
    "\n",
    "\n",
    "ifr=Entry()\n",
    "ifr.place(x=210, y=330,width=150,height=30)\n",
    "\n",
    "cmr=Entry()\n",
    "cmr.place(x=390, y=330,width=150,height=30)\n",
    "\n",
    "death=Entry()\n",
    "death.place(x=30, y=330,width=150,height=30)\n",
    "\n",
    "tkter.mainloop()"
   ]
  },
  {
   "cell_type": "code",
   "execution_count": null,
   "metadata": {},
   "outputs": [],
   "source": []
  }
 ],
 "metadata": {
  "kernelspec": {
   "display_name": "Python 3",
   "language": "python",
   "name": "python3"
  },
  "language_info": {
   "codemirror_mode": {
    "name": "ipython",
    "version": 3
   },
   "file_extension": ".py",
   "mimetype": "text/x-python",
   "name": "python",
   "nbconvert_exporter": "python",
   "pygments_lexer": "ipython3",
   "version": "3.7.6"
  }
 },
 "nbformat": 4,
 "nbformat_minor": 4
}
